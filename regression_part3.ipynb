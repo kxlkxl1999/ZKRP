{
 "cells": [
  {
   "cell_type": "markdown",
   "source": [
    "### 基于rpy2 调用R, 使用 quantreg package rq 函数 With the pfn option."
   ],
   "metadata": {
    "collapsed": false
   }
  },
  {
   "cell_type": "code",
   "execution_count": 1,
   "outputs": [
    {
     "name": "stderr",
     "output_type": "stream",
     "text": [
      "Unable to determine R library path: Command '('C:\\\\Program Files\\\\R\\\\R-4.0.5\\\\bin\\\\Rscript', '-e', 'cat(Sys.getenv(\"LD_LIBRARY_PATH\"))')' returned non-zero exit status 1.\n"
     ]
    }
   ],
   "source": [
    "import numpy as np\n",
    "import pandas as pd"
   ],
   "metadata": {
    "collapsed": false
   }
  },
  {
   "cell_type": "code",
   "execution_count": 3,
   "outputs": [
    {
     "name": "stderr",
     "output_type": "stream",
     "text": [
      "R[write to console]: Loading required package: SparseM\n",
      "\n",
      "R[write to console]: \n",
      "Attaching package: 'SparseM'\n",
      "\n",
      "\n",
      "R[write to console]: The following object is masked from 'package:base':\n",
      "\n",
      "    backsolve\n",
      "\n",
      "\n"
     ]
    },
    {
     "name": "stdout",
     "output_type": "stream",
     "text": [
      "[1] 1 2 3 4\n",
      "\n",
      "[1]  1  4  9 16\n",
      "\n"
     ]
    }
   ],
   "source": [
    "# mydata.csv\n",
    "# id rate CM CRM CCRM IRR SSLR DK CMl CRMl CCRMl IRRl SSLRl DKl CMu CRMu CCRMu IRRu SSLRu DKu\n",
    "\n"
   ],
   "metadata": {
    "collapsed": false
   }
  },
  {
   "cell_type": "code",
   "execution_count": 4,
   "outputs": [
    {
     "data": {
      "text/plain": "       income     foodexp\n0  420.157651  255.839425\n1  541.411707  310.958667\n2  901.157457  485.680014\n3  639.080229  402.997356\n4  750.875606  495.560775",
      "text/html": "<div>\n<style scoped>\n    .dataframe tbody tr th:only-of-type {\n        vertical-align: middle;\n    }\n\n    .dataframe tbody tr th {\n        vertical-align: top;\n    }\n\n    .dataframe thead th {\n        text-align: right;\n    }\n</style>\n<table border=\"1\" class=\"dataframe\">\n  <thead>\n    <tr style=\"text-align: right;\">\n      <th></th>\n      <th>income</th>\n      <th>foodexp</th>\n    </tr>\n  </thead>\n  <tbody>\n    <tr>\n      <th>0</th>\n      <td>420.157651</td>\n      <td>255.839425</td>\n    </tr>\n    <tr>\n      <th>1</th>\n      <td>541.411707</td>\n      <td>310.958667</td>\n    </tr>\n    <tr>\n      <th>2</th>\n      <td>901.157457</td>\n      <td>485.680014</td>\n    </tr>\n    <tr>\n      <th>3</th>\n      <td>639.080229</td>\n      <td>402.997356</td>\n    </tr>\n    <tr>\n      <th>4</th>\n      <td>750.875606</td>\n      <td>495.560775</td>\n    </tr>\n  </tbody>\n</table>\n</div>"
     },
     "execution_count": 4,
     "metadata": {},
     "output_type": "execute_result"
    }
   ],
   "source": [],
   "metadata": {
    "collapsed": false
   }
  },
  {
   "cell_type": "code",
   "execution_count": 5,
   "outputs": [
    {
     "data": {
      "text/plain": "<class 'statsmodels.iolib.summary.Summary'>\n\"\"\"\n                         QuantReg Regression Results                          \n==============================================================================\nDep. Variable:                foodexp   Pseudo R-squared:               0.6206\nModel:                       QuantReg   Bandwidth:                       64.51\nMethod:                 Least Squares   Sparsity:                        209.3\nDate:                Thu, 09 Feb 2023   No. Observations:                  235\nTime:                        17:48:18   Df Residuals:                      233\n                                        Df Model:                            1\n==============================================================================\n                 coef    std err          t      P>|t|      [0.025      0.975]\n------------------------------------------------------------------------------\nIntercept     81.4823     14.634      5.568      0.000      52.649     110.315\nincome         0.5602      0.013     42.516      0.000       0.534       0.586\n==============================================================================\n\nThe condition number is large, 2.38e+03. This might indicate that there are\nstrong multicollinearity or other numerical problems.\n\"\"\"",
      "text/html": "<table class=\"simpletable\">\n<caption>QuantReg Regression Results</caption>\n<tr>\n  <th>Dep. Variable:</th>      <td>foodexp</td>     <th>  Pseudo R-squared:  </th> <td>  0.6206</td>\n</tr>\n<tr>\n  <th>Model:</th>             <td>QuantReg</td>     <th>  Bandwidth:         </th> <td>   64.51</td>\n</tr>\n<tr>\n  <th>Method:</th>          <td>Least Squares</td>  <th>  Sparsity:          </th> <td>   209.3</td>\n</tr>\n<tr>\n  <th>Date:</th>          <td>Thu, 09 Feb 2023</td> <th>  No. Observations:  </th>  <td>   235</td> \n</tr>\n<tr>\n  <th>Time:</th>              <td>17:48:18</td>     <th>  Df Residuals:      </th>  <td>   233</td> \n</tr>\n<tr>\n  <th> </th>                      <td> </td>        <th>  Df Model:          </th>  <td>     1</td> \n</tr>\n</table>\n<table class=\"simpletable\">\n<tr>\n      <td></td>         <th>coef</th>     <th>std err</th>      <th>t</th>      <th>P>|t|</th>  <th>[0.025</th>    <th>0.975]</th>  \n</tr>\n<tr>\n  <th>Intercept</th> <td>   81.4823</td> <td>   14.634</td> <td>    5.568</td> <td> 0.000</td> <td>   52.649</td> <td>  110.315</td>\n</tr>\n<tr>\n  <th>income</th>    <td>    0.5602</td> <td>    0.013</td> <td>   42.516</td> <td> 0.000</td> <td>    0.534</td> <td>    0.586</td>\n</tr>\n</table><br/><br/>The condition number is large, 2.38e+03. This might indicate that there are<br/>strong multicollinearity or other numerical problems."
     },
     "execution_count": 5,
     "metadata": {},
     "output_type": "execute_result"
    }
   ],
   "source": [
    "import statsmodels.formula.api as smf\n",
    "mod = smf.quantreg(\"foodexp ~ income\", data)\n",
    "res = mod.fit(q=0.5)\n",
    "res.summary()"
   ],
   "metadata": {
    "collapsed": false
   }
  }
 ],
 "metadata": {
  "kernelspec": {
   "display_name": "Python 3",
   "language": "python",
   "name": "python3"
  },
  "language_info": {
   "codemirror_mode": {
    "name": "ipython",
    "version": 2
   },
   "file_extension": ".py",
   "mimetype": "text/x-python",
   "name": "python",
   "nbconvert_exporter": "python",
   "pygments_lexer": "ipython2",
   "version": "2.7.6"
  }
 },
 "nbformat": 4,
 "nbformat_minor": 0
}
