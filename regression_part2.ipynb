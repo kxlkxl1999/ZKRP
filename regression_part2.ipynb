{
 "cells": [
  {
   "cell_type": "code",
   "execution_count": null,
   "metadata": {
    "collapsed": true
   },
   "outputs": [],
   "source": [
    "from regression import *\n",
    "from zkrp import *\n",
    "import numpy as np\n",
    "import matplotlib.pyplot as plt\n",
    "import pandas as pd\n",
    "from code_zq.comparison import data_generation\n",
    "from code_zq.comparison import comparison\n",
    "from code_zq.ir.utils import utils"
   ]
  },
  {
   "cell_type": "code",
   "execution_count": null,
   "outputs": [],
   "source": [
    "def trans_data(l):\n",
    "    res = []\n",
    "    for i in l:\n",
    "        if type(i) != tuple:\n",
    "            res.append(i)\n",
    "        else:\n",
    "            for ii in i:\n",
    "                res.append(ii)\n",
    "    return res\n",
    "\n",
    "\n",
    "def data_comparasion(x, y, x_test, y_test):\n",
    "    x = x\n",
    "    y = y\n",
    "    x_test = x_test\n",
    "    y_test = y_test\n",
    "    ntrain = x.shape[0]\n",
    "    ntest = x_test.shape[0]\n",
    "    res = []\n",
    "    evallist = ['RMSE', 'NHD', 'IOR', 'DC']\n",
    "\n",
    "    x_l = x[:,0].reshape((ntrain,1))\n",
    "    x_u = x[:,1].reshape((ntrain,1))\n",
    "    x_c = x_u/2 + x_l/2\n",
    "    x_r = x_u/2 - x_l/2\n",
    "    y_l = y[:,0].reshape((ntrain,1))\n",
    "    y_u = y[:,1].reshape((ntrain,1))\n",
    "    y_c = y_u/2 + y_l/2\n",
    "    y_r = y_u/2 - y_l/2\n",
    "    y_c_test = y_test[:,1].reshape((ntest,1))/2 + y_test[:,0].reshape((ntest,1))/2\n",
    "    y_r_test = y_test[:,1].reshape((ntest,1))/2 - y_test[:,0].reshape((ntest,1))/2\n",
    "    x_c_test = x_test[:,1].reshape((ntest,1))/2 + x_test[:,0].reshape((ntest,1))/2\n",
    "    x_r_test = x_test[:,1].reshape((ntest,1))/2 - x_test[:,0].reshape((ntest,1))/2\n",
    "\n",
    "    ### HFmed-Method\n",
    "    a_c_hatmed, b_c_hatmed, a_r_hatmed, b_r_hatmed = HF_med_Method(x,y)\n",
    "\n",
    "    yhat_c_HFmed = a_c_hatmed * x_c_test + b_c_hatmed\n",
    "    yhat_r_HFmed = a_r_hatmed * x_r_test + b_r_hatmed\n",
    "    # yhat_c_HF = a_c_hat * x_c + b_c_hat\n",
    "    # yhat_r_HF = a_r_hat * x_r + b_r_hat\n",
    "\n",
    "   ### HF1-Method\n",
    "    a_c_hat1, b_c_hat1, a_r_hat1, b_r_hat1 = HF_Method1(x,y)\n",
    "\n",
    "    yhat_c_HF1 = a_c_hat1 * x_c_test + b_c_hat1\n",
    "    yhat_r_HF1 = a_r_hat1 * x_r_test + b_r_hat1\n",
    "    # yhat_c_HF = a_c_hat * x_c + b_c_hat\n",
    "    # yhat_r_HF = a_r_hat * x_r + b_r_hat\n",
    "\n",
    "    ### HF2-Method\n",
    "    a_c_hat2, b_c_hat2, a_r_hat2, b_r_hat2 = HF_Method2(x,y)\n",
    "\n",
    "    yhat_c_HF2 = a_c_hat2 * x_c_test + b_c_hat2\n",
    "    yhat_r_HF2 = a_r_hat2 * x_r_test + b_r_hat2\n",
    "    # yhat_c_HF = a_c_hat * x_c + b_c_hat\n",
    "    # yhat_r_HF = a_r_hat * x_r + b_r_hat\n",
    "\n",
    "    ### CM_Method\n",
    "    hatBeta_CM = CM_Method(x_c, y_c)\n",
    "\n",
    "    yhat_c_CM = predict(x_c_test, hatBeta_CM)\n",
    "    yhat_r_CM = predict(x_r_test, hatBeta_CM)\n",
    "\n",
    "    ### CRM_Method\n",
    "    hatBeta_c_CRM, hatBeta_r_CRM = CRM_Method(x_c, y_c, x_r, y_r)\n",
    "\n",
    "    yhat_c_CRM = predict(x_c_test, hatBeta_c_CRM)\n",
    "    yhat_r_CRM = predict(x_r_test, hatBeta_r_CRM)\n",
    "\n",
    "    ### CCRM_Method\n",
    "    hatBeta_c_CCRM, hatBeta_r_CCRM = CCRM_Method(x_c, y_c, x_r, y_r)\n",
    "\n",
    "    yhat_c_CCRM = predict(x_c_test, hatBeta_c_CCRM)\n",
    "    yhat_r_CCRM = predict(x_r_test, hatBeta_r_CCRM)\n",
    "\n",
    "    res.append(trans_data([eval(y_c_test, y_r_test, yhat_c_HFmed, yhat_r_HFmed, method=i, detail=True) for i in evallist]))\n",
    "    res.append(trans_data([eval(y_c_test, y_r_test, yhat_c_HF1, yhat_r_HF1, method=i, detail=True) for i in evallist]))\n",
    "    res.append(trans_data([eval(y_c_test, y_r_test, yhat_c_HF2, yhat_r_HF2, method=i, detail=True) for i in evallist]))\n",
    "    res.append(trans_data([eval(y_c_test, y_r_test, yhat_c_CM, yhat_r_CM, method=i, detail=True) for i in evallist]))\n",
    "    res.append(trans_data([eval(y_c_test, y_r_test, yhat_c_CRM, yhat_r_CRM, method=i, detail=True) for i in evallist]))\n",
    "    res.append(trans_data([eval(y_c_test, y_r_test, yhat_c_CCRM, yhat_r_CCRM, method=i, detail=True) for i in evallist]))\n",
    "    return res"
   ],
   "metadata": {
    "collapsed": false
   }
  },
  {
   "cell_type": "markdown",
   "source": [
    "### CCRM 数据实验部分"
   ],
   "metadata": {
    "collapsed": false
   }
  },
  {
   "cell_type": "code",
   "execution_count": null,
   "outputs": [],
   "source": [
    "def trans_to_datakxl(train, test):\n",
    "    xtrain = np.array(train).T[:,0:2]\n",
    "    ytrain = np.array(train).T[:,2:4]\n",
    "    xtest = np.array(test).T[:,0:2]\n",
    "    ytest = np.array(test).T[:,2:4]\n",
    "    train_x = np.vstack((xtrain[:,0]-xtrain[:,1], xtrain[:,0]+xtrain[:,1])).T\n",
    "    train_y = np.vstack((ytrain[:,0]-ytrain[:,1], ytrain[:,0]+ytrain[:,1])).T\n",
    "    test_x = np.vstack((xtest[:,0]-xtest[:,1], xtest[:,0]+xtest[:,1])).T\n",
    "    test_y = np.vstack((ytest[:,0]-ytest[:,1], ytest[:,0]+ytest[:,1])).T\n",
    "    return train_x, train_y, test_x, test_y\n",
    "\n",
    "\n",
    "def comparison2(a,b,c,d,e,f,g,h,i,j, path):\n",
    "    evallist = ['RMSE', 'NHD', 'IOR', 'DC']\n",
    "    eval_HFmed = []\n",
    "    eval_HF1 = []\n",
    "    eval_HF2 = []\n",
    "    eval_CM = []\n",
    "    eval_CRM = []\n",
    "    eval_CCRM = []\n",
    "\n",
    "    for iter in range(50):\n",
    "        train, test, beta0, beta1, betastar = data_generation(375, a, b, c, d, e, f, g, h, i, j, iter)\n",
    "        x, y, x_test, y_test = trans_to_datakxl(train, test)\n",
    "\n",
    "        result = data_comparasion(x, y, x_test, y_test)\n",
    "        eval_HFmed.append(result[0])\n",
    "        eval_HF1.append(result[1])\n",
    "        eval_HF2.append(result[2])\n",
    "        eval_CM.append(result[3])\n",
    "        eval_CRM.append(result[4])\n",
    "        eval_CCRM.append(result[5])\n",
    "\n",
    "    EV_HFmed = [np.mean(np.array(eval_HFmed),axis=0), np.var(np.array(eval_HFmed),axis=0)]\n",
    "    EV_HF1 = [np.mean(np.array(eval_HF1),axis=0), np.var(np.array(eval_HF1),axis=0)]\n",
    "    EV_HF2 = [np.mean(np.array(eval_HF2),axis=0), np.var(np.array(eval_HF2),axis=0)]\n",
    "    EV_CM = [np.mean(np.array(eval_CM),axis=0), np.var(np.array(eval_CM),axis=0)]\n",
    "    EV_CRM = [np.mean(np.array(eval_CRM),axis=0), np.var(np.array(eval_CRM),axis=0)]\n",
    "    EV_CCRM = [np.mean(np.array(eval_CCRM),axis=0), np.var(np.array(eval_CCRM),axis=0)]\n",
    "\n",
    "    result = [\n",
    "        ['%.3f (%.3f)' % (EV_HFmed[0][i], EV_HFmed[1][i]) for i in range(8)],\n",
    "        ['%.3f (%.3f)' % (EV_HF1[0][i], EV_HF1[1][i]) for i in range(8)],\n",
    "        ['%.3f (%.3f)' % (EV_HF2[0][i], EV_HF2[1][i]) for i in range(8)],\n",
    "        ['%.3f (%.3f)' % (EV_CM[0][i], EV_CM[1][i]) for i in range(8)],\n",
    "        ['%.3f (%.3f)' % (EV_CRM[0][i], EV_CRM[1][i]) for i in range(8)],\n",
    "        ['%.3f (%.3f)' % (EV_CCRM[0][i], EV_CCRM[1][i]) for i in range(8)]\n",
    "    ]\n",
    "    df = pd.DataFrame(result, index=['HF1', 'HF1', 'HF2', 'CM', 'CRM', 'CCRM'], columns=['RMSEL', 'RMSEU', 'RMSEC', 'RMSER', 'NHD', 'IOR', 'DCC', 'DCR']).T\n",
    "    df.to_csv(path)\n",
    "\n",
    "\n",
    "def plot_CCRM_data(a,b,c,d,e,f,g,h,i,j):\n",
    "    train, test, beta0, beta1, betastar = data_generation(375, a, b, c, d, e, f, g, h, i, j, iter)\n",
    "    x, y, x_test, y_test = trans_to_datakxl(train, test)\n",
    "    show3(x,y,varname=[\"x\", \"y\"])"
   ],
   "metadata": {
    "collapsed": false
   }
  },
  {
   "cell_type": "code",
   "execution_count": null,
   "outputs": [],
   "source": [
    "plot_CCRM_data(20, 40, 0, 1, -20, 20, 0, 0.05, 10, 20)\n",
    "plot_CCRM_data(20, 40, 0, 1, -5, 5, 0, 0.05, 10, 20)\n",
    "plot_CCRM_data(20, 40, 0, 1, -20, 20, 0, 0.05, 1, 5)\n",
    "plot_CCRM_data(20, 40, 0, 1, -5, 5, 0, 0.05, 1, 5)\n",
    "plot_CCRM_data(20, 40, 0, 1, -20, 20, 0, 0.05, 1, 5)\n",
    "plot_CCRM_data(20, 40, 0, 1, -20, 20, 0, 0.05, 10, 20)\n",
    "plot_CCRM_data(20, 40, 1, 10, 1, 5, 0, 0.05, 1, 5)\n",
    "plot_CCRM_data(20, 40, 0, 1, -5, 5, 0, 0.05, 10, 20)\n",
    "plot_CCRM_data(10, 20, 0, 1, -1, 1, 0, 0.05, 1, 2)"
   ],
   "metadata": {
    "collapsed": false
   }
  },
  {
   "cell_type": "code",
   "execution_count": null,
   "outputs": [],
   "source": [
    "comparison2(20, 40, 0, 1, -20, 20, 0, 0.05, 10, 20, path='data/reg_result/CCRM1.csv')\n",
    "comparison2(20, 40, 0, 1, -5, 5, 0, 0.05, 10, 20, path='data/reg_result/CCRM2.csv')\n",
    "comparison2(20, 40, 0, 1, -20, 20, 0, 0.05, 1, 5, path='data/reg_result/CCRM3.csv')\n",
    "comparison2(20, 40, 0, 1, -5, 5, 0, 0.05, 1, 5, path='data/reg_result/CCRM4.csv')\n",
    "comparison2(20, 40, 0, 1, -20, 20, 0, 0.05, 1, 5, path='data/reg_result/CCRM5.csv')\n",
    "comparison2(20, 40, 0, 1, -20, 20, 0, 0.05, 10, 20, path='data/reg_result/CCRM6.csv')\n",
    "comparison2(20, 40, 1, 10, 1, 5, 0, 0.05, 1, 5, path='data/reg_result/CCRM7.csv')\n",
    "comparison2(20, 40, 0, 1, -5, 5, 0, 0.05, 10, 20, path='data/reg_result/CCRM8.csv')\n",
    "comparison2(10, 20, 0, 1, -1, 1, 0, 0.05, 1, 2, path='data/reg_result/CCRM9.csv')"
   ],
   "metadata": {
    "collapsed": false
   }
  },
  {
   "cell_type": "markdown",
   "source": [
    "### 非均匀分布数据模拟部分"
   ],
   "metadata": {
    "collapsed": false
   }
  },
  {
   "cell_type": "code",
   "execution_count": null,
   "outputs": [],
   "source": [],
   "metadata": {
    "collapsed": false
   }
  },
  {
   "cell_type": "markdown",
   "source": [
    "### 非线性特例数据部分"
   ],
   "metadata": {
    "collapsed": false
   }
  },
  {
   "cell_type": "code",
   "execution_count": null,
   "outputs": [],
   "source": [],
   "metadata": {
    "collapsed": false
   }
  },
  {
   "cell_type": "markdown",
   "source": [
    "### 实际数据部分"
   ],
   "metadata": {
    "collapsed": false
   }
  },
  {
   "cell_type": "code",
   "execution_count": null,
   "outputs": [],
   "source": [
    "def realdata_sixmethod(xx, yy, path, niter = 20):\n",
    "    \"\"\"\n",
    "    随机抽 2/3 进行训练, 1/3 进行.重复进行20次，计算各个指标的大小，以及指标的均值\n",
    "    :param path: 返回结果的储存路径\n",
    "    :param niter: 迭代次数\n",
    "    :param xx: array-like(n,2).\n",
    "    :param yy: array-like(n,1).\n",
    "    :return: none. save result as csv\n",
    "    \"\"\"\n",
    "    assert xx.shape[0] == yy.shape[0]\n",
    "    n = xx.shape[0]\n",
    "    assert n >= 8\n",
    "    ntest = int(np.ceil(n/3))\n",
    "    ntrain = n - ntest\n",
    "\n",
    "    evallist = ['RMSE', 'NHD', 'IOR', 'DC']\n",
    "    eval_HFmed = []\n",
    "    eval_HF1 = []\n",
    "    eval_HF2 = []\n",
    "    eval_CM = []\n",
    "    eval_CRM = []\n",
    "    eval_CCRM = []\n",
    "\n",
    "    for i in range(niter):\n",
    "        test_index = np.random.choice(n, size=ntest, replace=False).tolist()\n",
    "        x_test = np.array([xx[i,:].tolist() for i in test_index])\n",
    "        x = np.delete(xx, test_index, axis=0)\n",
    "        y_test = np.array([yy[i,:].tolist() for i in test_index])\n",
    "        y = np.delete(yy, test_index, axis=0)\n",
    "\n",
    "        result = data_comparasion(x, y, x_test, y_test)\n",
    "\n",
    "        eval_HFmed.append(result[0])\n",
    "        eval_HF1.append(result[1])\n",
    "        eval_HF2.append(result[2])\n",
    "        eval_CM.append(result[3])\n",
    "        eval_CRM.append(result[4])\n",
    "        eval_CCRM.append(result[5])\n",
    "\n",
    "    EV_HFmed = [np.mean(np.array(eval_HFmed),axis=0), np.var(np.array(eval_HFmed),axis=0)]\n",
    "    EV_HF1 = [np.mean(np.array(eval_HF1),axis=0), np.var(np.array(eval_HF1),axis=0)]\n",
    "    EV_HF2 = [np.mean(np.array(eval_HF2),axis=0), np.var(np.array(eval_HF2),axis=0)]\n",
    "    EV_CM = [np.mean(np.array(eval_CM),axis=0), np.var(np.array(eval_CM),axis=0)]\n",
    "    EV_CRM = [np.mean(np.array(eval_CRM),axis=0), np.var(np.array(eval_CRM),axis=0)]\n",
    "    EV_CCRM = [np.mean(np.array(eval_CCRM),axis=0), np.var(np.array(eval_CCRM),axis=0)]\n",
    "\n",
    "    result = [\n",
    "        ['%.3f (%.3f)' % (EV_HFmed[0][i], EV_HFmed[1][i]) for i in range(8)],\n",
    "        ['%.3f (%.3f)' % (EV_HF1[0][i], EV_HF1[1][i]) for i in range(8)],\n",
    "        ['%.3f (%.3f)' % (EV_HF2[0][i], EV_HF2[1][i]) for i in range(8)],\n",
    "        ['%.3f (%.3f)' % (EV_CM[0][i], EV_CM[1][i]) for i in range(8)],\n",
    "        ['%.3f (%.3f)' % (EV_CRM[0][i], EV_CRM[1][i]) for i in range(8)],\n",
    "        ['%.3f (%.3f)' % (EV_CCRM[0][i], EV_CCRM[1][i]) for i in range(8)]\n",
    "    ]\n",
    "    df = pd.DataFrame(result, index=['HF1', 'HF1', 'HF2', 'CM', 'CRM', 'CCRM'], columns=['RMSEL', 'RMSEU', 'RMSEC', 'RMSER', 'NHD', 'IOR', 'DCC', 'DCR']).T\n",
    "    df.to_csv(path)"
   ],
   "metadata": {
    "collapsed": false
   }
  }
 ],
 "metadata": {
  "kernelspec": {
   "display_name": "Python 3",
   "language": "python",
   "name": "python3"
  },
  "language_info": {
   "codemirror_mode": {
    "name": "ipython",
    "version": 2
   },
   "file_extension": ".py",
   "mimetype": "text/x-python",
   "name": "python",
   "nbconvert_exporter": "python",
   "pygments_lexer": "ipython2",
   "version": "2.7.6"
  }
 },
 "nbformat": 4,
 "nbformat_minor": 0
}
