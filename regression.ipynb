{
 "cells": [
  {
   "cell_type": "code",
   "execution_count": 1,
   "metadata": {
    "collapsed": true
   },
   "outputs": [],
   "source": [
    "from regression import *\n",
    "from zkrp import *\n",
    "import numpy as np\n",
    "import matplotlib.pyplot as plt\n",
    "import pandas as pd\n",
    "from sklearn.preprocessing import StandardScaler"
   ]
  },
  {
   "cell_type": "code",
   "execution_count": 2,
   "outputs": [],
   "source": [
    "## 导入数据 Finance data\n",
    "'''\n",
    "Variables:\n",
    "\t  Sector (concept): as listed; nu = size of sector\n",
    "      Y1 = Job Cost, interval [a1, b1]\n",
    "\t  Y2 = Job Code, interval [a2, b2]\n",
    "\t  Y3 = Activity Code, interval [a3, b3]\n",
    "\t  Y4 = Monthly Cost, interval [a4, b4]\n",
    "\t  Y5 = Annual Budget, interval [a5, b5]\n",
    "'''\n",
    "\n",
    "file =\"data/Finance data\"\n",
    "f = open(file)\n",
    "column_name = ['u', 'sector', 'a1', 'b1', 'a2', 'b2', 'a3', 'b3', 'a4', 'b4', 'a5', 'b5', 'nu']\n",
    "data = pd.read_csv(f, sep='\\s+', names=column_name) #设置列名和 默认以多个空格来识别数据\n",
    "n = data.shape[0]\n",
    "Mm = StandardScaler()\n",
    "y_l = data['a1'].values.reshape(n,1)\n",
    "y_u = data['b1'].values.reshape(n,1)\n",
    "y_c = y_l/2 + y_u/2\n",
    "y_r = y_u/2 - y_l/2\n",
    "x1_l = data['a2'].values\n",
    "x1_u = data['b2'].values\n",
    "x1_c = x1_l/2 + x1_u/2\n",
    "x2_l = data['a3'].values\n",
    "x2_u = data['b3'].values\n",
    "x2_c = x2_l/2 + x2_u/2\n",
    "x3_l = data['a4'].values\n",
    "x3_u = data['b4'].values\n",
    "x3_c = x3_l/2 + x3_u/2\n",
    "x4_l = data['a5'].values\n",
    "x4_u = data['b5'].values\n",
    "x4_c = x4_l/2 + x4_u/2\n",
    "\n",
    "## 变量太少，将nu变量随机Musk, 作为自变量\n",
    "x5_l = data['nu'].values - np.array([np.random.randint(i/2) for i in data['nu'].values])\n",
    "x5_u = data['nu'].values + np.array([np.random.randint(i/2) for i in data['nu'].values])\n",
    "x5_c = x5_l/2 + x5_u/2\n",
    "\n",
    "x_l = Mm.fit_transform(np.vstack((x1_l, x2_l, x3_l, x4_l, x5_l)).T)\n",
    "x_u = Mm.fit_transform(np.vstack((x1_u, x2_u, x3_u, x4_u, x5_u)).T)\n",
    "x_c = Mm.fit_transform(np.vstack((x1_c, x2_c, x3_c, x4_c, x5_c)).T)\n",
    "x_r = Mm.fit_transform(np.vstack((x1_u, x2_u, x3_u, x4_u, x5_u)).T/2-np.vstack((x1_l, x2_l, x3_l, x4_l, x5_l)).T/2)"
   ],
   "metadata": {
    "collapsed": false
   }
  },
  {
   "cell_type": "code",
   "execution_count": 3,
   "outputs": [],
   "source": [
    "beta_cm = CM_Method(x_r, y_r)\n",
    "beta_crm_c, beta_crm_r = CRM_Method(x_c, y_c, x_r, y_r)\n",
    "beta_ccrm_c, beta_ccrm_r = CCRM_Method(x_c, y_c, x_r, y_r)"
   ],
   "metadata": {
    "collapsed": false
   }
  },
  {
   "cell_type": "code",
   "execution_count": 4,
   "outputs": [],
   "source": [
    "yhat_cm_l = predict(x_l, beta_cm)\n",
    "yhat_cm_u = predict(x_u, beta_cm)\n",
    "yhat_cm_r = (yhat_cm_u - yhat_cm_l) / 2\n",
    "yhat_cm_c = (yhat_cm_u + yhat_cm_l) / 2\n",
    "\n",
    "yhat_crm_r = predict(x_r, beta_crm_r)\n",
    "yhat_crm_c = predict(x_c, beta_crm_c)\n",
    "yhat_crm_u = yhat_crm_c + yhat_crm_r / 2\n",
    "yhat_crm_l = yhat_crm_c - yhat_crm_r / 2\n",
    "\n",
    "yhat_ccrm_r = predict(x_r, beta_ccrm_r)\n",
    "yhat_ccrm_c = predict(x_c, beta_ccrm_c)\n",
    "yhat_ccrm_u = yhat_ccrm_c + yhat_ccrm_r / 2\n",
    "yhat_ccrm_l = yhat_ccrm_c - yhat_ccrm_r / 2"
   ],
   "metadata": {
    "collapsed": false
   }
  }
 ],
 "metadata": {
  "kernelspec": {
   "display_name": "Python 3",
   "language": "python",
   "name": "python3"
  },
  "language_info": {
   "codemirror_mode": {
    "name": "ipython",
    "version": 2
   },
   "file_extension": ".py",
   "mimetype": "text/x-python",
   "name": "python",
   "nbconvert_exporter": "python",
   "pygments_lexer": "ipython2",
   "version": "2.7.6"
  }
 },
 "nbformat": 4,
 "nbformat_minor": 0
}
