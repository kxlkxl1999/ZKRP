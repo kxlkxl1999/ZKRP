{
 "cells": [
  {
   "cell_type": "code",
   "execution_count": 2,
   "metadata": {
    "collapsed": true
   },
   "outputs": [],
   "source": [
    "from regression import *\n",
    "from zkrp import *\n",
    "import numpy as np\n",
    "import matplotlib.pyplot as plt\n",
    "import pandas as pd"
   ]
  },
  {
   "cell_type": "code",
   "execution_count": null,
   "outputs": [],
   "source": [
    "## 导入数据 Finance data\n",
    "'''\n",
    "Variables:\n",
    "\t  Sector (concept): as listed; nu = size of sector\n",
    "      Y1 = Job Cost, interval [a1, b1]\n",
    "\t  Y2 = Job Code, interval [a2, b2]\n",
    "\t  Y3 = Activity Code, interval [a3, b3]\n",
    "\t  Y4 = Monthly Cost, interval [a4, b4]\n",
    "\t  Y5 = Annual Budget, interval [a5, b5]\n",
    "'''\n",
    "\n",
    "file =\"data/Finance data\"\n",
    "f = open(file)\n",
    "column_name = ['u', 'sector', 'a1', 'b1', 'a2', 'b2', 'a3', 'b3', 'a4', 'b4', 'a5', 'b5', 'nu']\n",
    "data = pd.read_csv(f, sep='\\s+', names=column_name) #设置列名和 默认以多个空格来识别数据\n",
    "n = data.shape[0]\n",
    "y_l = data['a1'].values.reshape(n,1)\n",
    "y_u = data['b1'].values.reshape(n,1)\n",
    "y_c = y_l/2 + y_u/2\n",
    "y_r = y_u/2 - y_l/2\n",
    "x1_l = data['a2'].values\n",
    "x1_u = data['b2'].values\n",
    "x1_c = x1_l/2 + x1_u/2\n",
    "x2_l = data['a3'].values\n",
    "x2_u = data['b3'].values\n",
    "x2_c = x2_l/2 + x2_u/2\n",
    "x3_l = np.log(data['a4'].values)\n",
    "x3_u = np.log(data['b4'].values)\n",
    "x3_c = x3_l/2 + x3_u/2\n",
    "x4_l = np.log(data['a5'].values)\n",
    "x4_u = np.log(data['b5'].values)\n",
    "x4_c = x4_l/2 + x4_u/2\n",
    "\n",
    "## 变量太少，将nu变量随机Musk, 作为自变量\n",
    "x5_l = data['nu'].values - np.array([np.random.randint(i/2) for i in data['nu'].values])\n",
    "x5_u = data['nu'].values + np.array([np.random.randint(i/2) for i in data['nu'].values])\n",
    "x5_c = x5_l/2 + x5_u/2\n",
    "\n",
    "## 加入交叉项\n",
    "x12_l = x1_l * x2_l\n",
    "x12_u = x1_u * x2_u\n",
    "x12_c = x12_l/2 + x12_u/2\n",
    "\n",
    "x13_l = x1_l * x3_l\n",
    "x13_u = x1_u * x3_u\n",
    "x13_c = x13_l/2 + x13_u/2\n",
    "\n",
    "x14_l = x1_l * x4_l\n",
    "x14_u = x1_u * x4_u\n",
    "x14_c = x14_l/2 + x14_u/2\n",
    "\n",
    "x15_l = x1_l * x5_l\n",
    "x15_u = x1_u * x5_u\n",
    "x15_c = x15_l/2 + x15_u/2\n",
    "\n",
    "x23_l = x2_l * x3_l\n",
    "x23_u = x2_u * x3_u\n",
    "x23_c = x23_l/2 + x23_u/2\n",
    "\n",
    "x24_l = x2_l * x4_l\n",
    "x24_u = x2_u * x4_u\n",
    "x24_c = x24_l/2 + x24_u/2\n",
    "\n",
    "x25_l = x2_l * x5_l\n",
    "x25_u = x2_u * x5_u\n",
    "x25_c = x25_l/2 + x25_u/2\n",
    "\n",
    "x34_l = x3_l * x4_l\n",
    "x34_u = x3_u * x4_u\n",
    "x34_c = x34_l/2 + x34_u/2\n",
    "\n",
    "x35_l = x3_l * x5_l\n",
    "x35_u = x3_u * x5_u\n",
    "x35_c = x35_l/2 + x35_u/2\n",
    "\n",
    "x45_l = x4_l * x5_l\n",
    "x45_u = x4_u * x5_u\n",
    "x45_c = x45_l/2 + x45_u/2\n",
    "\n",
    "x_l = np.vstack((x1_l, x2_l, x3_l, x4_l, x5_l, x12_l, x13_l, x14_l, x15_l, x23_l, x24_l, x25_l, x34_l, x35_l, x45_l)).T\n",
    "x_u = np.vstack((x1_u, x2_u, x3_u, x4_u, x5_u, x12_u, x13_u, x14_u, x15_u, x23_u, x24_u, x25_u, x34_u, x35_u, x45_u)).T\n",
    "x_c = np.vstack((x1_c, x2_c, x3_c, x4_c, x5_c, x12_c, x13_c, x14_c, x15_c, x23_c, x24_c, x25_c, x34_c, x35_c, x45_c)).T\n",
    "x_r = x_u/2 - x_l/2"
   ],
   "metadata": {
    "collapsed": false,
    "pycharm": {
     "name": "#%%\n"
    }
   }
  },
  {
   "cell_type": "code",
   "execution_count": null,
   "outputs": [],
   "source": [
    " # Mm.fit_transform(x_u/2 + x_l/2)\n"
   ],
   "metadata": {
    "collapsed": false,
    "pycharm": {
     "name": "#%%\n"
    }
   }
  },
  {
   "cell_type": "code",
   "execution_count": null,
   "outputs": [],
   "source": [
    "# beta_cm = CM_Method(x_c, y_c)\n",
    "# beta_crm_c, beta_crm_r = CRM_Method(x_c, y_c, x_r, y_r)\n",
    "# beta_ccrm_c, beta_ccrm_r = CCRM_Method(x_c, y_c, x_r, y_r)"
   ],
   "metadata": {
    "collapsed": false,
    "pycharm": {
     "name": "#%%\n"
    }
   }
  },
  {
   "cell_type": "code",
   "execution_count": null,
   "outputs": [],
   "source": [
    "# yhat_cm_l = predict(x_l, beta_cm)\n",
    "# yhat_cm_u = predict(x_u, beta_cm)\n",
    "# yhat_cm_r = (yhat_cm_u - yhat_cm_l) / 2\n",
    "# yhat_cm_c = (yhat_cm_u + yhat_cm_l) / 2\n",
    "#\n",
    "# yhat_crm_r = predict(x_r, beta_crm_r)\n",
    "# yhat_crm_c = predict(x_c, beta_crm_c)\n",
    "# yhat_crm_u = yhat_crm_c + yhat_crm_r / 2\n",
    "# yhat_crm_l = yhat_crm_c - yhat_crm_r / 2\n",
    "#\n",
    "# yhat_ccrm_r = predict(x_r, beta_ccrm_r)\n",
    "# yhat_ccrm_c = predict(x_c, beta_ccrm_c)\n",
    "# yhat_ccrm_u = yhat_ccrm_c + yhat_ccrm_r / 2\n",
    "# yhat_ccrm_l = yhat_ccrm_c - yhat_ccrm_r / 2"
   ],
   "metadata": {
    "collapsed": false,
    "pycharm": {
     "name": "#%%\n"
    }
   }
  },
  {
   "cell_type": "code",
   "execution_count": null,
   "outputs": [],
   "source": [
    "# x_list = [np.vstack((x1_l, x1_u)).T,np.vstack((x2_l, x2_u)).T,np.vstack((x3_l, x3_u)).T,np.vstack((x4_l, x4_u)).T,np.vstack((x5_l, x5_u)).T]\n",
    "x_list = [np.vstack((x_l[:,i], x_u[:,i])).T for i in range(x_l.shape[1])]"
   ],
   "metadata": {
    "collapsed": false,
    "pycharm": {
     "name": "#%%\n"
    }
   }
  },
  {
   "cell_type": "code",
   "execution_count": null,
   "outputs": [],
   "source": [
    "# 画出y和x1 的cor\n",
    "x1 = np.vstack((x1_l, x1_u)).T\n",
    "y = np.hstack((y_l, y_u))\n",
    "real_x1_y = np.vstack((np.mean(x1,axis=1), np.mean(y,axis=1))).T\n",
    "range_x1_y = np.vstack((x1[:,1]/2 - x1[:,0]/2, y[:,1]/2 - y[:,0]/2)).T\n",
    "show3(x1, y, path = './fig/Finance data x1 and y.jpg', real = real_x1_y, Cor = np.corrcoef(real_x1_y.T)[0][1], samples=x1.shape[0])\n",
    "\n",
    "print(\"hausdorff-cor: %.4f\" % frechet_correlation(x1, y))\n",
    "print(\"midpoint-cor: %.4f\" % np.corrcoef(real_x1_y.T)[0][1])\n",
    "print(\"symbolic-cor: %.4f\" % frechet_correlation(x1, y, method='symbolic'))\n",
    "print(\"arithmetic-based-cor: %.4f\" % frechet_correlation(x1, y, method='arithmetic-based'))\n",
    "print(\"range-cor: %.4f\" % np.corrcoef(range_x1_y.T)[0][1])"
   ],
   "metadata": {
    "collapsed": false,
    "pycharm": {
     "name": "#%%\n"
    }
   }
  },
  {
   "cell_type": "code",
   "execution_count": null,
   "outputs": [],
   "source": [
    "x5 = np.vstack((x5_l, x5_u)).T\n",
    "y = np.hstack((y_l, y_u))\n",
    "real_x5_y = np.vstack((np.mean(x5,axis=1), np.mean(y,axis=1))).T\n",
    "range_x5_y = np.vstack((x5[:,1]/2 - x5[:,0]/2, y[:,1]/2 - y[:,0]/2)).T\n",
    "show3(x5, y, path = './fig/Finance data x5 and y.jpg', real = real_x5_y, Cor = np.corrcoef(real_x5_y.T)[0][1], samples=x5.shape[0])\n",
    "\n",
    "print(\"hausdorff-cor: %.4f\" % frechet_correlation(x5, y))\n",
    "print(\"midpoint-cor: %.4f\" % np.corrcoef(real_x5_y.T)[0][1])\n",
    "print(\"symbolic-cor: %.4f\" % frechet_correlation(x5, y, method='symbolic'))\n",
    "print(\"arithmetic-based-cor: %.4f\" % frechet_correlation(x5, y, method='arithmetic-based'))\n",
    "print(\"range-cor: %.4f\" % np.corrcoef(range_x5_y.T)[0][1])"
   ],
   "metadata": {
    "collapsed": false,
    "pycharm": {
     "name": "#%%\n"
    }
   }
  },
  {
   "cell_type": "code",
   "execution_count": null,
   "outputs": [],
   "source": [
    "# Regression = [CM_Method, CRM_Method, CCRM_Method]\n",
    "# Regression[0].__name__"
   ],
   "metadata": {
    "collapsed": false,
    "pycharm": {
     "name": "#%%\n"
    }
   }
  },
  {
   "cell_type": "code",
   "execution_count": null,
   "outputs": [],
   "source": [
    "def reg_plot(x_list, y_l, y_u, y_c, y_r, var_list):\n",
    "    cor_hf = [frechet_correlation(i, np.hstack((y_l, y_u))) for i in x_list]\n",
    "    cor_s = [frechet_correlation(i, np.hstack((y_l, y_u)), method='symbolic') for i in x_list]\n",
    "    cor_mp = [frechet_correlation(i, np.hstack((y_l, y_u)), method='midpoint') for i in x_list]\n",
    "    cor_ab = [frechet_correlation(i, np.hstack((y_l, y_u)), method='arithmetic-based') for i in x_list]\n",
    "\n",
    "    x_c = np.vstack(tuple([i[:,0]/2 + i[:,1]/2 for i in x_list])).T\n",
    "    x_r = np.vstack(tuple([i[:,1]/2 - i[:,0]/2 for i in x_list])).T\n",
    "\n",
    "    x_hf_c = x_c[:,np.argsort(-np.abs(cor_hf)).tolist()]\n",
    "    x_hf_r = x_r[:,np.argsort(-np.abs(cor_hf)).tolist()]\n",
    "\n",
    "    x_s_c = x_c[:,np.argsort(-np.abs(cor_s)).tolist()]\n",
    "    x_s_r = x_r[:,np.argsort(-np.abs(cor_s)).tolist()]\n",
    "\n",
    "    x_mp_c = x_c[:,np.argsort(-np.abs(cor_mp)).tolist()]\n",
    "    x_mp_r = x_r[:,np.argsort(-np.abs(cor_mp)).tolist()]\n",
    "\n",
    "    x_ab_c = x_c[:,np.argsort(-np.abs(cor_ab)).tolist()]\n",
    "    x_ab_r = x_r[:,np.argsort(-np.abs(cor_ab)).tolist()]\n",
    "\n",
    "    reglist = [CM_Method, CRM_Method, CCRM_Method]\n",
    "    evallist = ['RMSE', 'NHD', 'IOR', 'DC']\n",
    "    var_num = var_list\n",
    "\n",
    "    fig, axes = plt.subplots(4, 3, figsize=(6,6), dpi=300)\n",
    "\n",
    "    # for i, row in enumerate(axes):\n",
    "    #     for j, col in enumerate(row):\n",
    "    #         pass\n",
    "    a = None\n",
    "    b = None\n",
    "    c = None\n",
    "\n",
    "    for i in range(len(evallist)):\n",
    "        for j in range(len(reglist)):\n",
    "            y_h = []\n",
    "            y_s = []\n",
    "            y_m = []\n",
    "            y_a = []\n",
    "            for k in var_num:\n",
    "                xx_hf_c = x_hf_c[:, 0:k]\n",
    "                xx_hf_r = x_hf_r[:, 0:k]\n",
    "                xx_s_c = x_s_c[:, 0:k]\n",
    "                xx_s_r = x_s_r[:, 0:k]\n",
    "                xx_mp_c = x_mp_c[:, 0:k]\n",
    "                xx_mp_r = x_mp_r[:, 0:k]\n",
    "                xx_ab_c = x_ab_c[:, 0:k]\n",
    "                xx_ab_r = x_ab_r[:, 0:k]\n",
    "                if reglist[j] == CM_Method:\n",
    "                    beta_hf = CM_Method(xx_hf_c, y_c)\n",
    "                    yhat_hf_c = predict(xx_hf_c, beta_hf)\n",
    "                    yhat_hf_r = predict(xx_hf_r, beta_hf)\n",
    "\n",
    "                    beta_s = CM_Method(xx_s_c, y_c)\n",
    "                    yhat_s_c = predict(xx_s_c, beta_s)\n",
    "                    yhat_s_r = predict(xx_s_r, beta_s)\n",
    "\n",
    "                    beta_mp = CM_Method(xx_mp_c, y_c)\n",
    "                    yhat_mp_c = predict(xx_mp_c, beta_mp)\n",
    "                    yhat_mp_r = predict(xx_mp_r, beta_mp)\n",
    "\n",
    "                    beta_ab = CM_Method(xx_ab_c, y_c)\n",
    "                    yhat_ab_c = predict(xx_ab_c, beta_ab)\n",
    "                    yhat_ab_r = predict(xx_ab_r, beta_ab)\n",
    "                else:\n",
    "                    beta_hf_c, beta_hf_r = reglist[j](xx_hf_c, y_c, xx_hf_r, y_r)\n",
    "                    yhat_hf_c = predict(xx_hf_c, beta_hf_c)\n",
    "                    yhat_hf_r = predict(xx_hf_r, beta_hf_r)\n",
    "\n",
    "                    beta_s_c, beta_s_r = reglist[j](xx_s_c, y_c, xx_s_r, y_r)\n",
    "                    yhat_s_c = predict(xx_s_c, beta_s_c)\n",
    "                    yhat_s_r = predict(xx_s_r, beta_s_r)\n",
    "\n",
    "                    beta_mp_c, beta_mp_r = reglist[j](xx_mp_c, y_c, xx_mp_r, y_r)\n",
    "                    yhat_mp_c = predict(xx_mp_c, beta_mp_c)\n",
    "                    yhat_mp_r = predict(xx_mp_r, beta_mp_r)\n",
    "\n",
    "                    beta_ab_c, beta_ab_r = reglist[j](xx_ab_c, y_c, xx_ab_r, y_r)\n",
    "                    yhat_ab_c = predict(xx_ab_c, beta_ab_c)\n",
    "                    yhat_ab_r = predict(xx_ab_r, beta_ab_r)\n",
    "\n",
    "                y_h.append(eval(yhat_hf_c, yhat_hf_r, y_c, y_r, method=evallist[i]))\n",
    "                y_s.append(eval(yhat_s_c, yhat_s_r, y_c, y_r, method=evallist[i]))\n",
    "                y_m.append(eval(yhat_mp_c, yhat_mp_r, y_c, y_r, method=evallist[i]))\n",
    "                y_a.append(eval(yhat_ab_c, yhat_ab_r, y_c, y_r, method=evallist[i]))\n",
    "\n",
    "            axes[i, j].plot(var_num, y_h, lw=1, label='Haus-Fre', color='darkorange')\n",
    "            axes[i, j].plot(var_num, y_s, lw=1, label='Symbolic', color='steelblue', ls='--')\n",
    "            axes[i, j].plot(var_num, y_m, lw=1, label='Midpoint', color='limegreen', ls=':')\n",
    "            axes[i, j].plot(var_num, y_a, lw=1, label='Arith-bas', color='red', ls=':')\n",
    "\n",
    "            if i == 3:\n",
    "                axes[i, j].set_xlabel(reglist[j].__name__)\n",
    "            if j == 0:\n",
    "                axes[i, j].set_ylabel(evallist[i])\n",
    "            axes[i, j].grid(True, ls='-.')\n",
    "\n",
    "            if i==0 and j ==2:\n",
    "                axes[i, j].legend(loc='upper right', fontsize=7)\n",
    "\n",
    "    # plt.legend(loc='best')\n",
    "    plt.tight_layout()\n",
    "    plt.show()\n"
   ],
   "metadata": {
    "collapsed": false,
    "pycharm": {
     "name": "#%%\n"
    }
   }
  },
  {
   "cell_type": "code",
   "execution_count": null,
   "outputs": [],
   "source": [
    "reg_plot(x_list, y_l, y_u, y_c, y_r, var_list=[12,11,10,9,8,7,6,5,4,3])"
   ],
   "metadata": {
    "collapsed": false,
    "pycharm": {
     "name": "#%%\n"
    }
   }
  },
  {
   "cell_type": "code",
   "execution_count": null,
   "outputs": [],
   "source": [
    "# p=20\n",
    "# hhh=np.array([1,2,3])\n",
    "# n = x.shape[0]\n",
    "# y_l = x[p:,0]\n",
    "# y_u = x[p:,1]\n",
    "# y_c = y_u/2 + y_l/2\n",
    "# y_r = y_u/2 - y_l/2\n",
    "# x_list = [x[p-1-i:n-2-i, :] for i in range(p)]"
   ],
   "metadata": {
    "collapsed": false,
    "pycharm": {
     "name": "#%%\n"
    }
   }
  },
  {
   "cell_type": "code",
   "execution_count": null,
   "outputs": [],
   "source": [
    "### 拟合 tesla 股票数据\n",
    "### x 是原始数据，2列：high-low, 每一行是daily的interval\n",
    "### return\n",
    "def transf_data(x, p=20):\n",
    "    n = x.shape[0]-p\n",
    "    y_l = x[p:,0].reshape(n,1)\n",
    "    y_u = x[p:,1].reshape(n,1)\n",
    "    y_c = y_u/2 + y_l/2\n",
    "    y_r = y_u/2 - y_l/2\n",
    "    x_list = [x[p-1-i:n+p-1-i, :] for i in range(p)]\n",
    "    return x_list, y_l, y_u, y_c, y_r\n",
    "\n",
    "## 将负区间转化为正区间\n",
    "def transf_data2(x1,x2):\n",
    "    n = x1.shape[0]\n",
    "    x_l = np.zeros((n,1))\n",
    "    x_u = np.zeros((n,1))\n",
    "    for i in range(x1.shape[0]):\n",
    "        x_l[i][0] = min(x1.reshape(n)[i], x2.reshape(n)[i])\n",
    "        x_u[i][0] = max(x1.reshape(n)[i], x2.reshape(n)[i])\n",
    "    return x_l, x_u\n"
   ],
   "metadata": {
    "collapsed": false,
    "pycharm": {
     "name": "#%%\n"
    }
   }
  },
  {
   "cell_type": "code",
   "execution_count": null,
   "outputs": [],
   "source": [
    "file =\"data/tesla/TSLA.csv\"\n",
    "f = open(file)\n",
    "column_name = ['Date', 'Open', 'High', 'Low', 'Close', 'Adj_Close', 'Volume']\n",
    "tesla = pd.read_csv(f, sep=',', names=column_name).values #设置列名和 默认以多个空格来识别数据\n",
    "tesla = tesla[1:,2:4].astype(float)\n",
    "n = tesla.shape[0]\n",
    "## 进行差分\n",
    "tesla_c = tesla[:,0]/2 + tesla[:,1]/2\n",
    "tesla_r = abs(tesla[:,0]/2 - tesla[:,1]/2)\n",
    "d_tesla = np.zeros((n-1, 2))\n",
    "for i in range(n-1):\n",
    "    d_tesla[i,0] = tesla_c[i+1] - tesla_c[i] - abs(tesla_r[i+1] - tesla_r[i])\n",
    "    d_tesla[i,1] = tesla_c[i+1] - tesla_c[i] + abs(tesla_r[i+1] - tesla_r[i])"
   ],
   "metadata": {
    "collapsed": false,
    "pycharm": {
     "name": "#%%\n"
    }
   }
  },
  {
   "cell_type": "code",
   "execution_count": null,
   "outputs": [],
   "source": [
    "tesla_x, tesla_yl, tesla_yu, tesla_yc, tesla_yr = transf_data(d_tesla)"
   ],
   "metadata": {
    "collapsed": false,
    "pycharm": {
     "name": "#%%\n"
    }
   }
  },
  {
   "cell_type": "code",
   "execution_count": null,
   "outputs": [],
   "source": [
    "tesla_xlist = [np.hstack(transf_data2(i[:,0], i[:,1])) for i in tesla_x]\n",
    "tesla_y_l, tesla_y_u = transf_data2(tesla_yl, tesla_yu)\n",
    "\n",
    "tesla_y_c = tesla_y_u/2 + tesla_y_l/2\n",
    "tesla_y_r = tesla_y_u/2 - tesla_y_l/2"
   ],
   "metadata": {
    "collapsed": false,
    "pycharm": {
     "name": "#%%\n"
    }
   }
  },
  {
   "cell_type": "code",
   "execution_count": null,
   "outputs": [],
   "source": [
    "# np.hstack((tesla_y_l, tesla_y_u))"
   ],
   "metadata": {
    "collapsed": false,
    "pycharm": {
     "name": "#%%\n"
    }
   }
  },
  {
   "cell_type": "code",
   "execution_count": null,
   "outputs": [],
   "source": [
    "# tesla_xlist[0].shape"
   ],
   "metadata": {
    "collapsed": false,
    "pycharm": {
     "name": "#%%\n"
    }
   }
  },
  {
   "cell_type": "code",
   "execution_count": null,
   "outputs": [],
   "source": [
    "reg_plot(tesla_xlist, tesla_y_l, tesla_y_u, tesla_y_c, tesla_y_r, var_list=[15,14,13,12,11,10,9,8,7,6,5,4,3,2])"
   ],
   "metadata": {
    "collapsed": false,
    "pycharm": {
     "name": "#%%\n"
    }
   }
  },
  {
   "cell_type": "markdown",
   "source": [
    "### Life expectancy 偏移量对比实验\n"
   ],
   "metadata": {
    "collapsed": false,
    "pycharm": {
     "name": "#%% md\n"
    }
   }
  },
  {
   "cell_type": "code",
   "execution_count": 23,
   "outputs": [],
   "source": [
    "life_expect = pd.read_csv(\"data/Life Expectancy Data.csv\", header=0)\n",
    "life_expect = life_expect.dropna(axis=0, how='any')\n",
    "life_expect = life_expect.drop(columns=['Country', 'Status'])"
   ],
   "metadata": {
    "collapsed": false,
    "pycharm": {
     "name": "#%%\n"
    }
   }
  },
  {
   "cell_type": "code",
   "execution_count": 14,
   "outputs": [],
   "source": [
    "def random_cover(x, method='random', sign_fixed = True):\n",
    "    \"\"\"\n",
    "    将一列数据使用区间进行覆盖\n",
    "    :param x: numpy(n,): 需要进行处理的数据\n",
    "    :param method: string: 'random' 真值被随机覆盖, 'left' 真值大部分位于区间左侧, 'right' 真值大部分位于区间右侧\n",
    "    :param sign_fixed: bool: 区间是否在零点同侧\n",
    "    :return: numpy(n,2): 返回的区间\n",
    "    \"\"\"\n",
    "    n = x.shape[0]\n",
    "    xl = np.zeros((n,))\n",
    "    xu = np.zeros((n,))\n",
    "    for i in range(n):\n",
    "        if sign_fixed:\n",
    "            if x[i] >= 0:\n",
    "                if method == 'random':\n",
    "                    xl[i] = max(0, x[i] - abs(0.15 * x[i] * np.random.randn()))\n",
    "                    xu[i] = x[i] + abs(0.15 * x[i] * np.random.randn())\n",
    "                elif method == 'left':\n",
    "                    xl[i] = max(0, x[i] - abs(0.15 * x[i] * np.random.randn()))\n",
    "                    xu[i] = x[i] + abs(0.3 * x[i] * np.random.randn())\n",
    "                else:\n",
    "                    xl[i] = max(0, x[i] - abs(0.3 * x[i] * np.random.randn()))\n",
    "                    xu[i] = x[i] + abs(0.15 * x[i] * np.random.randn())\n",
    "            else:\n",
    "                if method == 'random':\n",
    "                    xl[i] = x[i] - abs(0.15 * x[i] * np.random.randn())\n",
    "                    xu[i] = min(0, x[i] + abs(0.15 * x[i] * np.random.randn()))\n",
    "                elif method == 'left':\n",
    "                    xl[i] = x[i] - abs(0.15 * x[i] * np.random.randn())\n",
    "                    xu[i] = min(0, x[i] + abs(0.3 * x[i] * np.random.randn()))\n",
    "                else:\n",
    "                    xl[i] = x[i] - abs(0.3 * x[i] * np.random.randn())\n",
    "                    xu[i] = min(0, x[i] + abs(0.15 * x[i] * np.random.randn()))\n",
    "        else:\n",
    "            if method == 'random':\n",
    "                xl[i] = x[i] - abs(0.15 * x[i] * np.random.randn())\n",
    "                xu[i] = x[i] + abs(0.15 * x[i] * np.random.randn())\n",
    "            elif method == 'left':\n",
    "                xl[i] = x[i] - abs(0.15 * x[i] * np.random.randn())\n",
    "                xu[i] = x[i] + abs(0.3 * x[i] * np.random.randn())\n",
    "            else:\n",
    "                xl[i] = x[i] - abs(0.3 * x[i] * np.random.randn())\n",
    "                xu[i] = x[i] + abs(0.15 * x[i] * np.random.randn())\n",
    "    return np.vstack((xl,xu)).T\n",
    "\n"
   ],
   "metadata": {
    "collapsed": false,
    "pycharm": {
     "name": "#%%\n"
    }
   }
  },
  {
   "cell_type": "code",
   "execution_count": 24,
   "outputs": [],
   "source": [
    "xnames = life_expect.columns.values.tolist()\n",
    "\n",
    "xlist_random = [random_cover(life_expect[i].values) for i in xnames]\n",
    "\n",
    "xlist_left = [random_cover(life_expect[i].values, method='left') for i in xnames]\n",
    "\n",
    "xlist_right = [random_cover(life_expect[i].values, method='right') for i in xnames]"
   ],
   "metadata": {
    "collapsed": false
   }
  },
  {
   "cell_type": "markdown",
   "source": [
    "##### 真实值相对于区间左偏"
   ],
   "metadata": {
    "collapsed": false,
    "pycharm": {
     "name": "#%% md\n"
    }
   }
  },
  {
   "cell_type": "code",
   "execution_count": null,
   "outputs": [],
   "source": [],
   "metadata": {
    "collapsed": false,
    "pycharm": {
     "name": "#%%\n"
    }
   }
  },
  {
   "cell_type": "markdown",
   "source": [
    "##### 真实值相对于区间右偏"
   ],
   "metadata": {
    "collapsed": false,
    "pycharm": {
     "name": "#%% md\n"
    }
   }
  },
  {
   "cell_type": "code",
   "execution_count": null,
   "outputs": [],
   "source": [],
   "metadata": {
    "collapsed": false,
    "pycharm": {
     "name": "#%%\n"
    }
   }
  },
  {
   "cell_type": "markdown",
   "source": [
    "##### 真实值相对于区间随机分布"
   ],
   "metadata": {
    "collapsed": false,
    "pycharm": {
     "name": "#%% md\n"
    }
   }
  },
  {
   "cell_type": "code",
   "execution_count": null,
   "outputs": [],
   "source": [],
   "metadata": {
    "collapsed": false,
    "pycharm": {
     "name": "#%%\n"
    }
   }
  }
 ],
 "metadata": {
  "kernelspec": {
   "display_name": "Python 3",
   "language": "python",
   "name": "python3"
  },
  "language_info": {
   "codemirror_mode": {
    "name": "ipython",
    "version": 2
   },
   "file_extension": ".py",
   "mimetype": "text/x-python",
   "name": "python",
   "nbconvert_exporter": "python",
   "pygments_lexer": "ipython2",
   "version": "2.7.6"
  }
 },
 "nbformat": 4,
 "nbformat_minor": 0
}
